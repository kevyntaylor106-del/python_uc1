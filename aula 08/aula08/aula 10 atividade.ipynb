{
 "cells": [
  {
   "cell_type": "code",
   "execution_count": 42,
   "metadata": {},
   "outputs": [
    {
     "name": "stdout",
     "output_type": "stream",
     "text": [
      "[[19, 42, 96], [54, 57, 94], [2, 98, 32]]\n"
     ]
    }
   ],
   "source": [
    "import random\n",
    "\n",
    "matriz= []\n",
    "\n",
    "for i in range(3) :\n",
    "    linha=[]\n",
    "\n",
    "    for j in range(3) :\n",
    "        \n",
    "        valor=random.randint(0, 100)\n",
    "        \n",
    "        linha.append(valor)\n",
    "\n",
    "    matriz.append(linha)\n",
    "\n",
    "print(f\"{matriz}\")"
   ]
  },
  {
   "cell_type": "code",
   "execution_count": 44,
   "metadata": {},
   "outputs": [
    {
     "name": "stdout",
     "output_type": "stream",
     "text": [
      "19 42 96 \n",
      "54 57 94 \n",
      "02 98 32 \n"
     ]
    }
   ],
   "source": [
    "for linha in matriz :\n",
    "    for valor in linha :\n",
    "        print(f\"{valor:02}\", end=\" \")\n",
    "    print(f\"\")"
   ]
  },
  {
   "cell_type": "code",
   "execution_count": 43,
   "metadata": {},
   "outputs": [
    {
     "name": "stdout",
     "output_type": "stream",
     "text": [
      "19 42 96 \n",
      "54 57 94 \n",
      "2 98 32 \n"
     ]
    }
   ],
   "source": [
    "#print(\"elemento(0,0,) :\", matriz [1][2])\n",
    "for linha in matriz :\n",
    "    for elemento in linha:\n",
    "        print(elemento, end=\" \")\n",
    "    print(f\"\")"
   ]
  },
  {
   "cell_type": "markdown",
   "metadata": {},
   "source": [
    "EXEMPLO DE USO DO FOR\n",
    ". neste exemplo o {for} de maneira similar"
   ]
  },
  {
   "cell_type": "code",
   "execution_count": 47,
   "metadata": {},
   "outputs": [
    {
     "name": "stdout",
     "output_type": "stream",
     "text": [
      "elemento (0,0) >>> 19\n",
      "elemento (0,1) >>> 42\n",
      "elemento (0,2) >>> 96\n",
      "elemento (1,0) >>> 54\n",
      "elemento (1,1) >>> 57\n",
      "elemento (1,2) >>> 94\n",
      "elemento (2,0) >>> 02\n",
      "elemento (2,1) >>> 98\n",
      "elemento (2,2) >>> 32\n"
     ]
    }
   ],
   "source": [
    "for i in range(3) :\n",
    "    for j in range (3):\n",
    "        print(f\"elemento ({i},{j}) >>> {matriz[i][j]:02}\")"
   ]
  },
  {
   "cell_type": "markdown",
   "metadata": {},
   "source": [
    "atividade 04"
   ]
  },
  {
   "cell_type": "code",
   "execution_count": 49,
   "metadata": {},
   "outputs": [
    {
     "name": "stdout",
     "output_type": "stream",
     "text": [
      "[[19, 42, 96], [54, 57, 94], [2, 98, 32]]\n",
      "[[19, 42, 96], [54, 57, 94], [2, 98, 32]]\n",
      "[[19, 42, 96], [54, 57, 94], [2, 98, 32]]\n",
      "[[19, 42, 96], [54, 57, 94], [2, 98, 32]]\n",
      "[[19, 42, 96], [54, 57, 94], [2, 98, 32]]\n",
      "[[19, 42, 96], [54, 57, 94], [2, 98, 32]]\n",
      "[[19, 42, 96], [54, 57, 94], [2, 98, 32]]\n",
      "[[19, 42, 96], [54, 57, 94], [2, 98, 32]]\n",
      "[[19, 42, 96], [54, 57, 94], [2, 98, 32]]\n",
      "[[19, 42, 96], [54, 57, 94], [2, 98, 32]]\n",
      "[[19, 42, 96], [54, 57, 94], [2, 98, 32]]\n",
      "[[19, 42, 96], [54, 57, 94], [2, 98, 32]]\n",
      "[[19, 42, 96], [54, 57, 94], [2, 98, 32]]\n",
      "[[19, 42, 96], [54, 57, 94], [2, 98, 32]]\n",
      "[[19, 42, 96], [54, 57, 94], [2, 98, 32]]\n",
      "[[19, 42, 96], [54, 57, 94], [2, 98, 32]]\n"
     ]
    }
   ],
   "source": [
    "import random \n",
    "matriz_3 = []\n",
    "\n",
    "for i in range(4) :\n",
    "    linha=[]\n",
    "\n",
    "    for j in range (4) :\n",
    "        \n",
    "        valor=random.randint(0, 20)\n",
    "\n",
    "        linha.append(valor)\n",
    "\n",
    "        matriz_3.append(linha)\n",
    "\n",
    "        print(f\"{matriz}\")"
   ]
  }
 ],
 "metadata": {
  "kernelspec": {
   "display_name": "Python 3",
   "language": "python",
   "name": "python3"
  },
  "language_info": {
   "codemirror_mode": {
    "name": "ipython",
    "version": 3
   },
   "file_extension": ".py",
   "mimetype": "text/x-python",
   "name": "python",
   "nbconvert_exporter": "python",
   "pygments_lexer": "ipython3",
   "version": "3.12.0"
  }
 },
 "nbformat": 4,
 "nbformat_minor": 2
}
