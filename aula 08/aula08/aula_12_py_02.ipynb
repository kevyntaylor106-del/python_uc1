{
 "cells": [
  {
   "cell_type": "code",
   "execution_count": 1,
   "metadata": {},
   "outputs": [],
   "source": [
    "# criar uma classa com o objeto carro \n",
    "class Meu_Carro :\n",
    "    def __init__(self,cor, placa, seguro, ano, modelo) :\n",
    "        self.cor = cor\n",
    "        self.placa = placa\n",
    "        self.seguro = seguro\n",
    "        self._reboque = False\n",
    "        self.ano = ano\n",
    "        self.modelo = modelo\n",
    "        \n",
    "    def reboquei_nstalar(self) :\n",
    "        if not self._reboque :\n",
    "            self._reboque = True\n",
    "            print(f\"\\t\\t [SIM] o reboque astá instalado !!!\")\n",
    "        else :\n",
    "            print(\"\\t\\t [NÃO] o reboque não está instalado \\n\")\n",
    "        \n",
    "    def reboque_desinstalado(self):\n",
    "        if self._reboque :\n",
    "            self._reboque = False\n",
    "            print(f\"\\t\\t [SIM] o reboque astá instalado !!!\")\n",
    "        else :\n",
    "             print(\"\\t\\t [NÃO] o reboque não está instalado \\n\")\n",
    "    \n",
    "    def exibir_info(self) :\n",
    "        if self._reboque :\n",
    "            status = \"instalado\"\n",
    "        else :\n",
    "            status = \"desinstalado\"\n",
    "        print(f\" a cor é {self.cor} - o modelo é {self.modelo} - o ano é {self.ano} o reboque está {status}\")\n",
    "             \n",
    "            \n",
    "            \n",
    "        \n",
    "                \n",
    "    \n",
    "                \n",
    "                \n",
    "        \n",
    "                \n",
    "    "
   ]
  },
  {
   "cell_type": "code",
   "execution_count": 4,
   "metadata": {},
   "outputs": [
    {
     "name": "stdout",
     "output_type": "stream",
     "text": [
      "<__main__.Meu_Carro object at 0x000002114C85FDA0>\n",
      " a cor é Branco - o modelo é esportivo - o ano é 2001 o reboque está desinstalado\n"
     ]
    }
   ],
   "source": [
    "avaliaçãoa_do_carro = Meu_Carro(\"Branco\",\"python.kevyn\",\" 5 anos\",\"2001\",\"esportivo\")\n",
    "print(avaliaçãoa_do_carro)\n",
    "\n",
    "avaliaçãoa_do_carro.exibir_info ()\n"
   ]
  },
  {
   "cell_type": "code",
   "execution_count": null,
   "metadata": {},
   "outputs": [
    {
     "name": "stdout",
     "output_type": "stream",
     "text": [
      "\t\t [ok] o reboque astá instalado !!!\n"
     ]
    }
   ],
   "source": [
    "avaliaçãoa_do_carro.reboquei_nstalar ()"
   ]
  },
  {
   "cell_type": "code",
   "execution_count": 3,
   "metadata": {},
   "outputs": [
    {
     "name": "stdout",
     "output_type": "stream",
     "text": [
      "\t\t [NÃO] o reboque não está instalado \n",
      "\n"
     ]
    }
   ],
   "source": [
    "avaliaçãoa_do_carro.reboque_desinstalado ()"
   ]
  }
 ],
 "metadata": {
  "kernelspec": {
   "display_name": "Python 3",
   "language": "python",
   "name": "python3"
  },
  "language_info": {
   "codemirror_mode": {
    "name": "ipython",
    "version": 3
   },
   "file_extension": ".py",
   "mimetype": "text/x-python",
   "name": "python",
   "nbconvert_exporter": "python",
   "pygments_lexer": "ipython3",
   "version": "3.12.0"
  }
 },
 "nbformat": 4,
 "nbformat_minor": 2
}
