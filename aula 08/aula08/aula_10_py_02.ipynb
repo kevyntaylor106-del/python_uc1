{
 "cells": [
  {
   "cell_type": "code",
   "execution_count": null,
   "metadata": {},
   "outputs": [],
   "source": [
    "#criando dicionario no py.01\n",
    "\n",
    "#\n",
    "#aluno =(int(input(f\"esses são todos os dados do aluno \", )))\n",
    "#for aluno in range(2) :\n",
    "     #aluno = {\n",
    "       # \"nome\" : \"kevyn taylor\",\n",
    "       # \"idade\" :  15,\n",
    "       # \"cidade\" : \"petropolis\",\n",
    "       # \"email\" : \"kevyn.aluno@senac.com.br\",\n",
    "    \n",
    "   #  }\n",
    "\n",
    "   \n"
   ]
  },
  {
   "cell_type": "code",
   "execution_count": 1,
   "metadata": {},
   "outputs": [
    {
     "name": "stdout",
     "output_type": "stream",
     "text": [
      "[{'nome': 'kevyn', 'idade': '15', 'cidade': 'petropolis', 'email': 'kevyn.senac@gmail.com'}]\n",
      "[{'nome': 'kevyn', 'idade': '15', 'cidade': 'petropolis', 'email': 'kevyn.senac@gmail.com'}, {'nome': 'luiz', 'idade': '20', 'cidade': 'rio de janeiro', 'email': 'luiz.senac@gmail.com'}]\n"
     ]
    }
   ],
   "source": [
    "lista_pessoas= []\n",
    "\n",
    "for i in range(2) :\n",
    "    pessoa={}\n",
    "    pessoa[\"nome\"]=input(\"digite o nome     :\")\n",
    "    pessoa[\"idade\"]=input(\"digite a idade     :\")\n",
    "    pessoa[\"cidade\"]=input(\"digite a cidade     :\")\n",
    "    pessoa[\"email\"]=input(\"digite o email       :\")\n",
    "\n",
    "    lista_pessoas.append(pessoa)\n",
    "    print(lista_pessoas)"
   ]
  },
  {
   "cell_type": "code",
   "execution_count": 7,
   "metadata": {},
   "outputs": [
    {
     "name": "stdout",
     "output_type": "stream",
     "text": [
      "kevyn\n",
      "{'nome': 'kevyn', 'idade': '15', 'cidade': 'petropolis', 'email': 'kevyn.senac@gmail.com', 'cel': 'o24 993177-888221'}\n",
      "{'nome': 'luiz', 'idade': '20', 'cidade': 'rio de janeiro', 'email': 'luiz.senac@gmail.com'}\n"
     ]
    }
   ],
   "source": [
    "print(lista_pessoas[0][\"nome\"])\n",
    "\n",
    "lista_pessoas[0][\"cel\"]=\"o24 993177-888221\"\n",
    "\n",
    "\n",
    "print(lista_pessoas[0])\n",
    "print(lista_pessoas[1])\n"
   ]
  },
  {
   "cell_type": "code",
   "execution_count": 7,
   "metadata": {},
   "outputs": [
    {
     "name": "stdout",
     "output_type": "stream",
     "text": [
      "{1: {'nome ': 'maria ', 'notas ': [7.5, 8.0, 9.2], 'média ': 8.23}, 2: {'nome ': 'joão ', 'notas ': [6.0, 7.8, 8.5], 'média ': 7.43}, 3: {'nome ': 'carlos ', 'notas ': [5.5, 6.5, 7.0], 'média ': 6.33}}\n"
     ]
    }
   ],
   "source": [
    "alunos = {}\n",
    "\n",
    "\n",
    "alunos[1] = {\"nome \" : \"maria \", \"notas \" : [7.5, 8.0, 9.2]}\n",
    "alunos[2] = {\"nome \" : \"joão \", \"notas \" : [6.0, 7.8, 8.5]}\n",
    "alunos[3] = {\"nome \" : \"carlos \", \"notas \" : [5.5, 6.5, 7.0]}\n",
    "\n",
    "for id_aluno, info in alunos.items() :\n",
    "    notas = info[\"notas \"]\n",
    "    media = sum(notas)/ len(notas)\n",
    "    info[\"média \"] = round(media, 2)\n",
    "print(alunos)"
   ]
  },
  {
   "cell_type": "code",
   "execution_count": 20,
   "metadata": {},
   "outputs": [
    {
     "name": "stdout",
     "output_type": "stream",
     "text": [
      "{'nome': 'maria', 'notas': [4.0, 3.0, 6.5, 4.5]}\n",
      "matricula do aluno ..... :1\n",
      "nome do aluno ..... :{'nome': 'maria', 'notas': [4.0, 3.0, 6.5, 4.5]}\n",
      "notas do aluno ..... :\n",
      "\t\tnotas .... {notas}\n",
      "\t\tnotas .... {notas}\n",
      "\t\tnotas .... {notas}\n",
      "\t\tnotas .... {notas}\n",
      "\t\tmedia : 4.50\n",
      "\t\tstatus : reprovado\n",
      "....................................................\n",
      "matricula do aluno ..... :2\n",
      "nome do aluno ..... :{'nome': 'joão', 'notas': [6.0, 9.0, 8.0, 6.5]}\n",
      "notas do aluno ..... :\n",
      "\t\tnotas .... {notas}\n",
      "\t\tnotas .... {notas}\n",
      "\t\tnotas .... {notas}\n",
      "\t\tnotas .... {notas}\n",
      "\t\tmedia : 7.38\n",
      "\t\tstatus : aprovado\n",
      "....................................................\n",
      "matricula do aluno ..... :3\n",
      "nome do aluno ..... :{'nome': 'carlos', 'notas': [8.0, 4.0, 10.0, 8.3]}\n",
      "notas do aluno ..... :\n",
      "\t\tnotas .... {notas}\n",
      "\t\tnotas .... {notas}\n",
      "\t\tnotas .... {notas}\n",
      "\t\tnotas .... {notas}\n",
      "\t\tmedia : 7.58\n",
      "\t\tstatus : aprovado\n",
      "....................................................\n"
     ]
    }
   ],
   "source": [
    "alunos = {}\n",
    "\n",
    "alunos[1] = {\"nome\" : \"maria\", \"notas\" : []}\n",
    "alunos[2] = {\"nome\" : \"joão\", \"notas\" : []}\n",
    "alunos[3] = {\"nome\" : \"carlos\", \"notas\" : []}\n",
    "\n",
    "alunos[1][\"notas\"].append(4.0)\n",
    "alunos[2][\"notas\"].append(6.0)\n",
    "alunos[3][\"notas\"].append(8.0)\n",
    "\n",
    "\n",
    "alunos[1][\"notas\"].append(3.0)\n",
    "alunos[2][\"notas\"].append(9.0)\n",
    "alunos[3][\"notas\"].append(4.0)\n",
    "\n",
    "alunos[1][\"notas\"].append(6.5)\n",
    "alunos[2][\"notas\"].append(8.0)\n",
    "alunos[3][\"notas\"].append(10.0)\n",
    "\n",
    "alunos[1][\"notas\"].append(4.5)\n",
    "alunos[2][\"notas\"].append(6.5)\n",
    "alunos[3][\"notas\"].append(8.3)\n",
    "\n",
    "print(alunos[1])\n",
    "\n",
    "for matricula, dados_aluno in alunos.items() :\n",
    "        print(f\"matricula do aluno ..... :{matricula}\")\n",
    "        print(f\"nome do aluno ..... :{dados_aluno}\")\n",
    "        print(f\"notas do aluno ..... :\")\n",
    "        \n",
    "        for nota in dados_aluno[\"notas\"] :\n",
    "            print(\"\\t\\tnotas .... {notas}\")\n",
    "        \n",
    "        media=sum(dados_aluno[\"notas\"])/len(dados_aluno[\"notas\"])\n",
    "    \n",
    "        dados_aluno[\"média\"]=media\n",
    "        print(f\"\\t\\tmedia : {dados_aluno[\"média\"]:.2f}\")\n",
    "    \n",
    "        if media>= 6:\n",
    "            dados_aluno[\"status\"]=\"aprovado\"\n",
    "        else :\n",
    "           dados_aluno[\"status\"]=\"reprovado\" \n",
    "           \n",
    "        print(f\"\\t\\tstatus : {dados_aluno[\"status\"]}\")\n",
    "        print(\"....................................................\")\n",
    "           \n",
    "           # break\n",
    "    \n",
    "        \n",
    "        "
   ]
  }
 ],
 "metadata": {
  "kernelspec": {
   "display_name": "Python 3",
   "language": "python",
   "name": "python3"
  },
  "language_info": {
   "codemirror_mode": {
    "name": "ipython",
    "version": 3
   },
   "file_extension": ".py",
   "mimetype": "text/x-python",
   "name": "python",
   "nbconvert_exporter": "python",
   "pygments_lexer": "ipython3",
   "version": "3.12.0"
  }
 },
 "nbformat": 4,
 "nbformat_minor": 2
}
