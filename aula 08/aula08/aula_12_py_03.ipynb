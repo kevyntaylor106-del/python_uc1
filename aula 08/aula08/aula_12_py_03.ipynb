{
 "cells": [
  {
   "cell_type": "code",
   "execution_count": 6,
   "metadata": {},
   "outputs": [],
   "source": [
    "class Apartamento :\n",
    "    def __init__(self,condominio, cor, moveis, rede, agua) :\n",
    "        self.condominio =condominio\n",
    "        self.cor = cor\n",
    "        self._moveis = moveis\n",
    "        self._rede = rede\n",
    "        self.agua = agua\n",
    "        \n",
    "    def rede_instalada(self) :\n",
    "        if self._rede :\n",
    "            self._rede = True\n",
    "            print(f\"\\t\\t [ok] a redde está instalada !!!\")\n",
    "        else :\n",
    "            print(f\"\\t\\t [erro] a rede não está instalada \\n\")\n",
    "            \n",
    "    def rede_desinstalada(self) :\n",
    "        if self._rede :\n",
    "            self._rede = False\n",
    "            print(f\"\\t\\t [ok] a rede está desinstalada !!!\")\n",
    "        else :\n",
    "            print(f\"\\t\\t [erro] a rede está desinstalada \\n\")\n",
    "            \n",
    "            \n",
    "            \n",
    "    def moveis_instalada(self) :\n",
    "        if  self._moveis :\n",
    "            self._moveis = True\n",
    "            print(f\"\\t\\t [ok] a redde está instalada !!!\")\n",
    "        else :\n",
    "            print(f\"\\t\\t [erro] a rede não está instalada \\n\")\n",
    "            \n",
    "    def moveis_desinstalada(self) :\n",
    "        if  self._moveis :\n",
    "             self._moveis= False\n",
    "             print(f\"\\t\\t [ok] o movel está desinstalada !!!\")\n",
    "        else :\n",
    "             print(f\"\\t\\t [erro] o movel está desinstalado \\n\")\n",
    "            \n",
    "    \n",
    "    def exibir_info(self) :\n",
    "        if self._rede :\n",
    "            status = \"instalado\"\n",
    "        else :\n",
    "            status = \"desinstalados\"\n",
    "            print(\" o conominio é {self.condominio} - a cor da casa é {self.cor} - {self.rede} - {status} \")\n",
    "            \n",
    "            \n",
    "    \n",
    "    def exibir_info(self) :\n",
    "        if self._moveis :\n",
    "            status = \"instalado\"\n",
    "        else :\n",
    "            status = \"desinstalados\"\n",
    "            \n",
    "            print(\" o conominio é {self.condominio} - a cor da casa é {self.cor} - {self.rede} - {status} \")\n",
    "    "
   ]
  },
  {
   "cell_type": "code",
   "execution_count": 8,
   "metadata": {},
   "outputs": [
    {
     "ename": "TypeError",
     "evalue": "Apartamento.__init__() takes 6 positional arguments but 7 were given",
     "output_type": "error",
     "traceback": [
      "\u001b[31m---------------------------------------------------------------------------\u001b[39m",
      "\u001b[31mTypeError\u001b[39m                                 Traceback (most recent call last)",
      "\u001b[36mCell\u001b[39m\u001b[36m \u001b[39m\u001b[32mIn[8]\u001b[39m\u001b[32m, line 1\u001b[39m\n\u001b[32m----> \u001b[39m\u001b[32m1\u001b[39m meu_apartamentp = \u001b[43mApartamento\u001b[49m\u001b[43m(\u001b[49m\u001b[33;43m\"\u001b[39;49m\u001b[33;43msão pulo\u001b[39;49m\u001b[33;43m\"\u001b[39;49m\u001b[43m,\u001b[49m\u001b[33;43m\"\u001b[39;49m\u001b[33;43mbranca\u001b[39;49m\u001b[33;43m\"\u001b[39;49m\u001b[43m,\u001b[49m\u001b[33;43m\"\u001b[39;49m\u001b[33;43mmadeira\u001b[39;49m\u001b[33;43m\"\u001b[39;49m\u001b[43m,\u001b[49m\u001b[33;43m\"\u001b[39;49m\u001b[33;43mclaro\u001b[39;49m\u001b[33;43m\"\u001b[39;49m\u001b[43m,\u001b[49m\u001b[33;43m\"\u001b[39;49m\u001b[33;43magua do imperador\u001b[39;49m\u001b[33;43m\"\u001b[39;49m\u001b[43m,\u001b[49m\u001b[33;43m\"\u001b[39;49m\u001b[33;43mstatus\u001b[39;49m\u001b[33;43m\"\u001b[39;49m\u001b[43m)\u001b[49m\n\u001b[32m      2\u001b[39m \u001b[38;5;28mprint\u001b[39m(meu_apartamentp)\n\u001b[32m      4\u001b[39m meu_apartamentp.exibir_info ()\n",
      "\u001b[31mTypeError\u001b[39m: Apartamento.__init__() takes 6 positional arguments but 7 were given"
     ]
    }
   ],
   "source": [
    "meu_apartamentp = Apartamento(\"são pulo\",\"branca\",\"madeira\",\"claro\",\"agua do imperador\",\"\")\n",
    "print(meu_apartamentp)\n",
    "\n",
    "meu_apartamentp.exibir_info ()\n"
   ]
  }
 ],
 "metadata": {
  "kernelspec": {
   "display_name": "Python 3",
   "language": "python",
   "name": "python3"
  },
  "language_info": {
   "codemirror_mode": {
    "name": "ipython",
    "version": 3
   },
   "file_extension": ".py",
   "mimetype": "text/x-python",
   "name": "python",
   "nbconvert_exporter": "python",
   "pygments_lexer": "ipython3",
   "version": "3.12.0"
  }
 },
 "nbformat": 4,
 "nbformat_minor": 2
}
