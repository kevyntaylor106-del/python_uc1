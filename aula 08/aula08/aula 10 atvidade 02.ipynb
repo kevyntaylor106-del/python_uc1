{
 "cells": [
  {
   "cell_type": "markdown",
   "metadata": {},
   "source": [
    "XERCICIO 05"
   ]
  },
  {
   "cell_type": "code",
   "execution_count": 3,
   "metadata": {},
   "outputs": [],
   "source": [
    "matriz=[]\n",
    "for i in range (4) :\n",
    "    linha=[]\n",
    "    for j in range (4) :\n",
    "        valor=float(input(\"digite um valor ntre 0 e 99\"))\n",
    "        linha.append(valor)\n",
    "    matriz.append(linha)\n"
   ]
  },
  {
   "cell_type": "code",
   "execution_count": 4,
   "metadata": {},
   "outputs": [
    {
     "name": "stdout",
     "output_type": "stream",
     "text": [
      "Quantidade de números pares: 7\n"
     ]
    }
   ],
   "source": [
    "#matriz=[]\n",
    "#pares = sum(1 for linha in matriz for num in linha if num % 2 == 0)\n",
    "#print(f\"Quantidade de números pares: {pares}\")\n",
    "\n",
    "pares = 0\n",
    "for i in range(4):\n",
    "    for j in range(4):\n",
    "        if matriz[i][j] % 2 == 0:\n",
    "            pares += 1\n",
    "\n",
    "print(f\"Quantidade de números pares: {pares}\")"
   ]
  },
  {
   "cell_type": "markdown",
   "metadata": {},
   "source": [
    "EXERCICIOS 06\n"
   ]
  },
  {
   "cell_type": "code",
   "execution_count": null,
   "metadata": {},
   "outputs": [],
   "source": [
    "matriz=[]\n",
    "for i in range (4) :\n",
    "    linha=[]\n",
    "    for j in range (4) :\n",
    "        valor=float(input(\"digite um valor ntre 0 e 99\"))\n",
    "        linha.append(valor)\n",
    "    matriz.append(linha)\n"
   ]
  },
  {
   "cell_type": "code",
   "execution_count": null,
   "metadata": {},
   "outputs": [],
   "source": [
    "import random\n",
    "\n",
    "mattriz=[]\n",
    "for i in range(4) :\n",
    "    linha=[]\n",
    "    for j in range(4) :\n",
    "        linha.append(random.randint(1,100))\n",
    "        mattriz.append(linha)\n",
    "\n",
    "    print(f\"{mattriz}\")"
   ]
  }
 ],
 "metadata": {
  "kernelspec": {
   "display_name": "Python 3",
   "language": "python",
   "name": "python3"
  },
  "language_info": {
   "codemirror_mode": {
    "name": "ipython",
    "version": 3
   },
   "file_extension": ".py",
   "mimetype": "text/x-python",
   "name": "python",
   "nbconvert_exporter": "python",
   "pygments_lexer": "ipython3",
   "version": "3.12.0"
  }
 },
 "nbformat": 4,
 "nbformat_minor": 2
}
