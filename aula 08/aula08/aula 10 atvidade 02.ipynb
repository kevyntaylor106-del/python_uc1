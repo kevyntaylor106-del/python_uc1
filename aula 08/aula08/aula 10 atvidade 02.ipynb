{
 "cells": [
  {
   "cell_type": "markdown",
   "metadata": {},
   "source": [
    "XERCICIO 05"
   ]
  },
  {
   "cell_type": "code",
   "execution_count": 3,
   "metadata": {},
   "outputs": [],
   "source": [
    "matriz=[]\n",
    "for i in range (4) :\n",
    "    linha=[]\n",
    "    for j in range (4) :\n",
    "        valor=float(input(\"digite um valor ntre 0 e 99\"))\n",
    "        linha.append(valor)\n",
    "    matriz.append(linha)\n"
   ]
  },
  {
   "cell_type": "code",
   "execution_count": 4,
   "metadata": {},
   "outputs": [
    {
     "name": "stdout",
     "output_type": "stream",
     "text": [
      "Quantidade de números pares: 7\n"
     ]
    }
   ],
   "source": [
    "#matriz=[]\n",
    "#pares = sum(1 for linha in matriz for num in linha if num % 2 == 0)\n",
    "#print(f\"Quantidade de números pares: {pares}\")\n",
    "\n",
    "pares = 0\n",
    "for i in range(4):\n",
    "    for j in range(4):\n",
    "        if matriz[i][j] % 2 == 0:\n",
    "            pares += 1\n",
    "\n",
    "print(f\"Quantidade de números pares: {pares}\")"
   ]
  },
  {
   "cell_type": "markdown",
   "metadata": {},
   "source": [
    "EXERCICIOS 06\n"
   ]
  },
  {
   "cell_type": "code",
   "execution_count": null,
   "metadata": {},
   "outputs": [],
   "source": [
    "matriz=[]\n",
    "for i in range (4) :\n",
    "    linha=[]\n",
    "    for j in range (4) :\n",
    "        valor=float(input(\"digite um valor ntre 0 e 99\"))\n",
    "        linha.append(valor)\n",
    "    matriz.append(linha)\n"
   ]
  },
  {
   "cell_type": "code",
   "execution_count": null,
   "metadata": {},
   "outputs": [],
   "source": [
    "import random\n",
    "\n",
    "mattriz=[]\n",
    "for i in range(4) :\n",
    "    linha=[]\n",
    "    for j in range(4) :\n",
    "        linha.append(random.randint(1,1000))\n",
    "        mattriz.append(linha)\n",
    "\n",
    "    print(f\"{mattriz}\")"
   ]
  },
  {
   "cell_type": "code",
   "execution_count": 5,
   "metadata": {},
   "outputs": [
    {
     "ename": "NameError",
     "evalue": "name 'matriz' is not defined",
     "output_type": "error",
     "traceback": [
      "\u001b[31m---------------------------------------------------------------------------\u001b[39m",
      "\u001b[31mNameError\u001b[39m                                 Traceback (most recent call last)",
      "\u001b[36mCell\u001b[39m\u001b[36m \u001b[39m\u001b[32mIn[5]\u001b[39m\u001b[32m, line 4\u001b[39m\n\u001b[32m      1\u001b[39m numero=\u001b[38;5;28mint\u001b[39m(\u001b[38;5;28minput\u001b[39m(\u001b[33m\"\u001b[39m\u001b[33mdigite um numero :\u001b[39m\u001b[33m\"\u001b[39m))\n\u001b[32m      3\u001b[39m matriz_mult=[]\n\u001b[32m----> \u001b[39m\u001b[32m4\u001b[39m \u001b[38;5;28;01mfor\u001b[39;00m linha \u001b[38;5;129;01min\u001b[39;00m \u001b[43mmatriz\u001b[49m :\n\u001b[32m      5\u001b[39m     linha_mult=[]\n\u001b[32m      6\u001b[39m     \u001b[38;5;28;01mfor\u001b[39;00m elemento \u001b[38;5;129;01min\u001b[39;00m linha :\n",
      "\u001b[31mNameError\u001b[39m: name 'matriz' is not defined"
     ]
    }
   ],
   "source": [
    "numero=int(input(\"digite um numero :\"))\n",
    "\n",
    "matriz_mult=[]\n",
    "for linha in matriz :\n",
    "    linha_mult=[]\n",
    "    for elemento in linha :\n",
    "        resultado=elemento*numero\n",
    "        linha_mult.append(resultado)\n",
    "    matriz_mult.append(linha_mult)\n",
    "\n",
    "print(f\"{matriz_mult}\")"
   ]
  },
  {
   "cell_type": "code",
   "execution_count": null,
   "metadata": {},
   "outputs": [],
   "source": [
    "matrizes=[\n",
    "    [10, 14, 45],\n",
    "    [50, 25, 32],\n",
    "    [35, 20, 17]\n",
    "]\n",
    "\n",
    "print(\"eçlemento (0,0) :\",matrizes[0][0] )\n",
    "print(\" elemento(0,1) : \", matrizes[1][1]  )\n",
    " \n",
    "\n"
   ]
  }
 ],
 "metadata": {
  "kernelspec": {
   "display_name": "Python 3",
   "language": "python",
   "name": "python3"
  },
  "language_info": {
   "codemirror_mode": {
    "name": "ipython",
    "version": 3
   },
   "file_extension": ".py",
   "mimetype": "text/x-python",
   "name": "python",
   "nbconvert_exporter": "python",
   "pygments_lexer": "ipython3",
   "version": "3.12.0"
  }
 },
 "nbformat": 4,
 "nbformat_minor": 2
}
