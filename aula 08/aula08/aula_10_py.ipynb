{
 "cells": [
  {
   "cell_type": "code",
   "execution_count": 5,
   "metadata": {},
   "outputs": [
    {
     "name": "stdout",
     "output_type": "stream",
     "text": [
      "[[27, 67, 48, 67, 82, 26, 78, 47, 16, 86], [20, 0, 24, 6, 34, 60, 1, 32, 10, 38], [94, 25, 93, 41, 90, 49, 66, 42, 49, 14], [89, 2, 5, 23, 10, 75, 46, 91, 57, 28], [29, 28, 46, 77, 55, 69, 63, 66, 21, 78], [77, 97, 55, 22, 86, 36, 67, 25, 14, 20], [25, 77, 57, 89, 82, 78, 18, 51, 95, 58], [47, 11, 10, 71, 80, 7, 33, 6, 43, 12], [19, 52, 55, 60, 25, 44, 13, 67, 97, 78], [87, 74, 61, 84, 14, 52, 46, 24, 85, 58]]\n"
     ]
    }
   ],
   "source": [
    "import random\n",
    "\n",
    "matriz1 = []\n",
    "matriz2 = []\n",
    " \n",
    "for i in range(10) :\n",
    "    linha1 = []\n",
    "    linha2 = []\n",
    "\n",
    "    for j in range(10) :\n",
    "         valor = random.randint(0, 100)\n",
    "         valor2 = random.randint(0, 100)\n",
    "\n",
    "         linha1.append(valor)\n",
    "         linha2.append(valor2)\n",
    "\n",
    "    matriz1.append(linha1)\n",
    "    matriz2.append(linha2)\n",
    "\n",
    "matriz3 = []\n",
    "for i in range(0, 10) :\n",
    "     linha3 = []\n",
    "     for j in range(0, 10) :\n",
    "          soma = matriz1[i][j] + matriz2[i][j] \n",
    "\n",
    "\n",
    "#print(f\"{matriz1},{matriz2}\")\n",
    "#print()\n",
    "#imcompleto\n",
    "    \n",
    "\n",
    "def soma(matriz1,matriz2) :\n",
    "     return matriz1 + matriz2\n",
    " \n",
    "\n"
   ]
  }
 ],
 "metadata": {
  "kernelspec": {
   "display_name": "Python 3",
   "language": "python",
   "name": "python3"
  },
  "language_info": {
   "codemirror_mode": {
    "name": "ipython",
    "version": 3
   },
   "file_extension": ".py",
   "mimetype": "text/x-python",
   "name": "python",
   "nbconvert_exporter": "python",
   "pygments_lexer": "ipython3",
   "version": "3.12.0"
  }
 },
 "nbformat": 4,
 "nbformat_minor": 2
}
