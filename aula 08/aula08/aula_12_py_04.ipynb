{
 "cells": [
  {
   "cell_type": "code",
   "execution_count": null,
   "metadata": {},
   "outputs": [],
   "source": [
    "class Meu_Carro :\n",
    "    def __init__(self,cor, placa, seguro, ano, modelo) :\n",
    "        self.cor = cor\n",
    "        self.placa = placa\n",
    "        self.seguro = seguro\n",
    "        self._reboque = False\n",
    "        self.ano = ano\n",
    "        self.modelo = modelo\n",
    "        \n",
    "    def reboquei_nstalar(self) :\n",
    "        if not self._reboque :\n",
    "            self._reboque = True\n",
    "            print(f\"\\t\\t [SIM] o reboque astá instalado !!!\")\n",
    "        else :\n",
    "            print(\"\\t\\t [NÃO] o reboque não está instalado \\n\")\n",
    "        \n",
    "    def reboque_desinstalado(self):\n",
    "        if self._reboque :\n",
    "            self._reboque = False\n",
    "            print(f\"\\t\\t [SIM] o reboque astá instalado !!!\")\n",
    "        else :\n",
    "             print(\"\\t\\t [NÃO] o reboque não está instalado \\n\")\n",
    "    \n",
    "    def exibir_info(self) :\n",
    "        if self._reboque :\n",
    "            status = \"instalado\"\n",
    "        else :\n",
    "            status = \"desinstalado\"\n",
    "        \n",
    "        \n",
    "        print(f\" a cor é {self.cor} - o modelo é {self.modelo} - o ano é {self.ano} o reboque está {status}\")\n",
    "             \n",
    "            \n",
    "            \n",
    "mc1= Meu_Carro(\"w\",\"gol\",2011)\n",
    "mc2= Meu_Carro(\"bmw\")\n",
    "mc3= Meu_Carro()\n",
    "\n",
    "                \n",
    "    \n",
    "                \n",
    "                \n",
    "        \n"
   ]
  }
 ],
 "metadata": {
  "language_info": {
   "name": "python"
  }
 },
 "nbformat": 4,
 "nbformat_minor": 2
}
