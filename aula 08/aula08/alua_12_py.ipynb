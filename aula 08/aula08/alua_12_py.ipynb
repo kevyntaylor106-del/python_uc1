{
 "cells": [
  {
   "cell_type": "code",
   "execution_count": 25,
   "metadata": {},
   "outputs": [],
   "source": [
    "#defenindo uma classe chamada 'carro':\n",
    "\n",
    "# a diferença do def pro class é que o \"class\" é um objeto e e o \"def\" é a informação do objeto\n",
    "\n",
    "class Carro: # o objeto deve começar com maiusculo \n",
    "    \n",
    "    def __init__(self, marca, modelo, ano) : # o código init tem que ter 2 anderlines na frente e atras >>__<<,\n",
    "        self.marca = marca\n",
    "        self.modelo = modelo\n",
    "        self.ano = ano\n",
    "        self._ligado = False #anderline >> _ << serve para privar uma variavel\n",
    "        self.cor = \"\"                      #a código False sempre deve começar com F maiusculo\n",
    "        self._garantia = True\n",
    "    \n",
    "    def ligar(self) :\n",
    "        if self._ligado :\n",
    "            print(f\"\\n\\t[ERROjá está ligado \\n\")\n",
    "        else :\n",
    "            self._ligado = True\n",
    "            print(\"\\t\\t[OK] o carro está ligado !!!\")\n",
    "                                                     \n",
    "                                                        # para definir uma classe ela tem que star dentro de um objeto\n",
    "    def desligar(self) :\n",
    "        if self._ligado :\n",
    "            self._ligado=False\n",
    "            print(\"\\t\\t[OK] o carro está desligado !!!\")\n",
    "        else :\n",
    "            print(f\"\\n\\t [ERRO já está desligado \\n\")\n",
    "    \n",
    "    def exibir_info(self) :\n",
    "        if self._ligado :\n",
    "            status = \"ligado\" # a palvra status não é um objeto do elemento \"class Carro\" e sim uma variavel\n",
    "            \n",
    "        else :\n",
    "            \n",
    "            status = \"desligado\"\n",
    "        print(f\"{self.marca} - {self.modelo} está {status}\")\n",
    "            \n"
   ]
  },
  {
   "cell_type": "code",
   "execution_count": 26,
   "metadata": {},
   "outputs": [
    {
     "name": "stdout",
     "output_type": "stream",
     "text": [
      "<__main__.Carro object at 0x0000025421CEEF30>\n",
      "W - Gol está desligado\n"
     ]
    }
   ],
   "source": [
    "meu_carro = Carro(\"W\", \"Gol\", 2013)\n",
    "\n",
    "print(meu_carro)\n",
    "\n",
    "meu_carro.exibir_info ()"
   ]
  },
  {
   "cell_type": "code",
   "execution_count": 27,
   "metadata": {},
   "outputs": [
    {
     "name": "stdout",
     "output_type": "stream",
     "text": [
      "\t\t[OK] o carro está ligado !!!\n"
     ]
    }
   ],
   "source": [
    "meu_carro.ligar ()"
   ]
  },
  {
   "cell_type": "code",
   "execution_count": 28,
   "metadata": {},
   "outputs": [
    {
     "name": "stdout",
     "output_type": "stream",
     "text": [
      "\t\t[OK] o carro está desligado !!!\n"
     ]
    }
   ],
   "source": [
    "meu_carro.desligar ()"
   ]
  }
 ],
 "metadata": {
  "kernelspec": {
   "display_name": "Python 3",
   "language": "python",
   "name": "python3"
  },
  "language_info": {
   "codemirror_mode": {
    "name": "ipython",
    "version": 3
   },
   "file_extension": ".py",
   "mimetype": "text/x-python",
   "name": "python",
   "nbconvert_exporter": "python",
   "pygments_lexer": "ipython3",
   "version": "3.12.0"
  }
 },
 "nbformat": 4,
 "nbformat_minor": 2
}
